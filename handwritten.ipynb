{
  "cells": [
    {
      "cell_type": "markdown",
      "metadata": {
        "id": "zsXvSwxkFFug"
      },
      "source": [
        "### Import Libraries"
      ]
    },
    {
      "cell_type": "code",
      "execution_count": null,
      "metadata": {
        "id": "o2ERGjkvYxCq"
      },
      "outputs": [],
      "source": [
        "# Required Libraries\n",
        "import time\n",
        "import pandas as pd\n",
        "import numpy as np\n",
        "import tensorflow as tf\n",
        "from sklearn.model_selection import train_test_split\n",
        "from sklearn.preprocessing import MinMaxScaler, StandardScaler\n",
        "from sklearn.decomposition import PCA\n",
        "from sklearn import svm\n",
        "from sklearn.utils import shuffle\n",
        "from sklearn.decomposition import PCA\n",
        "import seaborn as sns\n",
        "import matplotlib.pyplot as plt\n",
        "\n",
        "from sklearn.model_selection import cross_val_score, GridSearchCV\n",
        "from sklearn import metrics\n",
        "STATE = 101"
      ]
    },
    {
      "cell_type": "markdown",
      "metadata": {
        "id": "P4z0lJc-bslO"
      },
      "source": [
        "### Load Data"
      ]
    },
    {
      "cell_type": "code",
      "execution_count": null,
      "metadata": {
        "colab": {
          "base_uri": "https://localhost:8080/",
          "height": 229
        },
        "id": "dldnUKk4br3h",
        "outputId": "ff6f9662-a145-4ca9-e432-a72c23b9c083"
      },
      "outputs": [
        {
          "data": {
            "text/html": [
              "\n",
              "  <div id=\"df-ab3c2333-815d-4f3f-82f9-61d21bbd8966\">\n",
              "    <div class=\"colab-df-container\">\n",
              "      <div>\n",
              "<style scoped>\n",
              "    .dataframe tbody tr th:only-of-type {\n",
              "        vertical-align: middle;\n",
              "    }\n",
              "\n",
              "    .dataframe tbody tr th {\n",
              "        vertical-align: top;\n",
              "    }\n",
              "\n",
              "    .dataframe thead th {\n",
              "        text-align: right;\n",
              "    }\n",
              "</style>\n",
              "<table border=\"1\" class=\"dataframe\">\n",
              "  <thead>\n",
              "    <tr style=\"text-align: right;\">\n",
              "      <th></th>\n",
              "      <th>label</th>\n",
              "      <th>1x1</th>\n",
              "      <th>1x2</th>\n",
              "      <th>1x3</th>\n",
              "      <th>1x4</th>\n",
              "      <th>1x5</th>\n",
              "      <th>1x6</th>\n",
              "      <th>1x7</th>\n",
              "      <th>1x8</th>\n",
              "      <th>1x9</th>\n",
              "      <th>...</th>\n",
              "      <th>28x19</th>\n",
              "      <th>28x20</th>\n",
              "      <th>28x21</th>\n",
              "      <th>28x22</th>\n",
              "      <th>28x23</th>\n",
              "      <th>28x24</th>\n",
              "      <th>28x25</th>\n",
              "      <th>28x26</th>\n",
              "      <th>28x27</th>\n",
              "      <th>28x28</th>\n",
              "    </tr>\n",
              "  </thead>\n",
              "  <tbody>\n",
              "    <tr>\n",
              "      <th>0</th>\n",
              "      <td>5</td>\n",
              "      <td>0</td>\n",
              "      <td>0</td>\n",
              "      <td>0</td>\n",
              "      <td>0</td>\n",
              "      <td>0</td>\n",
              "      <td>0</td>\n",
              "      <td>0</td>\n",
              "      <td>0</td>\n",
              "      <td>0</td>\n",
              "      <td>...</td>\n",
              "      <td>0</td>\n",
              "      <td>0</td>\n",
              "      <td>0</td>\n",
              "      <td>0</td>\n",
              "      <td>0</td>\n",
              "      <td>0</td>\n",
              "      <td>0</td>\n",
              "      <td>0</td>\n",
              "      <td>0</td>\n",
              "      <td>0</td>\n",
              "    </tr>\n",
              "    <tr>\n",
              "      <th>1</th>\n",
              "      <td>0</td>\n",
              "      <td>0</td>\n",
              "      <td>0</td>\n",
              "      <td>0</td>\n",
              "      <td>0</td>\n",
              "      <td>0</td>\n",
              "      <td>0</td>\n",
              "      <td>0</td>\n",
              "      <td>0</td>\n",
              "      <td>0</td>\n",
              "      <td>...</td>\n",
              "      <td>0</td>\n",
              "      <td>0</td>\n",
              "      <td>0</td>\n",
              "      <td>0</td>\n",
              "      <td>0</td>\n",
              "      <td>0</td>\n",
              "      <td>0</td>\n",
              "      <td>0</td>\n",
              "      <td>0</td>\n",
              "      <td>0</td>\n",
              "    </tr>\n",
              "    <tr>\n",
              "      <th>2</th>\n",
              "      <td>4</td>\n",
              "      <td>0</td>\n",
              "      <td>0</td>\n",
              "      <td>0</td>\n",
              "      <td>0</td>\n",
              "      <td>0</td>\n",
              "      <td>0</td>\n",
              "      <td>0</td>\n",
              "      <td>0</td>\n",
              "      <td>0</td>\n",
              "      <td>...</td>\n",
              "      <td>0</td>\n",
              "      <td>0</td>\n",
              "      <td>0</td>\n",
              "      <td>0</td>\n",
              "      <td>0</td>\n",
              "      <td>0</td>\n",
              "      <td>0</td>\n",
              "      <td>0</td>\n",
              "      <td>0</td>\n",
              "      <td>0</td>\n",
              "    </tr>\n",
              "    <tr>\n",
              "      <th>3</th>\n",
              "      <td>1</td>\n",
              "      <td>0</td>\n",
              "      <td>0</td>\n",
              "      <td>0</td>\n",
              "      <td>0</td>\n",
              "      <td>0</td>\n",
              "      <td>0</td>\n",
              "      <td>0</td>\n",
              "      <td>0</td>\n",
              "      <td>0</td>\n",
              "      <td>...</td>\n",
              "      <td>0</td>\n",
              "      <td>0</td>\n",
              "      <td>0</td>\n",
              "      <td>0</td>\n",
              "      <td>0</td>\n",
              "      <td>0</td>\n",
              "      <td>0</td>\n",
              "      <td>0</td>\n",
              "      <td>0</td>\n",
              "      <td>0</td>\n",
              "    </tr>\n",
              "    <tr>\n",
              "      <th>4</th>\n",
              "      <td>9</td>\n",
              "      <td>0</td>\n",
              "      <td>0</td>\n",
              "      <td>0</td>\n",
              "      <td>0</td>\n",
              "      <td>0</td>\n",
              "      <td>0</td>\n",
              "      <td>0</td>\n",
              "      <td>0</td>\n",
              "      <td>0</td>\n",
              "      <td>...</td>\n",
              "      <td>0</td>\n",
              "      <td>0</td>\n",
              "      <td>0</td>\n",
              "      <td>0</td>\n",
              "      <td>0</td>\n",
              "      <td>0</td>\n",
              "      <td>0</td>\n",
              "      <td>0</td>\n",
              "      <td>0</td>\n",
              "      <td>0</td>\n",
              "    </tr>\n",
              "  </tbody>\n",
              "</table>\n",
              "<p>5 rows × 785 columns</p>\n",
              "</div>\n",
              "      <button class=\"colab-df-convert\" onclick=\"convertToInteractive('df-ab3c2333-815d-4f3f-82f9-61d21bbd8966')\"\n",
              "              title=\"Convert this dataframe to an interactive table.\"\n",
              "              style=\"display:none;\">\n",
              "        \n",
              "  <svg xmlns=\"http://www.w3.org/2000/svg\" height=\"24px\"viewBox=\"0 0 24 24\"\n",
              "       width=\"24px\">\n",
              "    <path d=\"M0 0h24v24H0V0z\" fill=\"none\"/>\n",
              "    <path d=\"M18.56 5.44l.94 2.06.94-2.06 2.06-.94-2.06-.94-.94-2.06-.94 2.06-2.06.94zm-11 1L8.5 8.5l.94-2.06 2.06-.94-2.06-.94L8.5 2.5l-.94 2.06-2.06.94zm10 10l.94 2.06.94-2.06 2.06-.94-2.06-.94-.94-2.06-.94 2.06-2.06.94z\"/><path d=\"M17.41 7.96l-1.37-1.37c-.4-.4-.92-.59-1.43-.59-.52 0-1.04.2-1.43.59L10.3 9.45l-7.72 7.72c-.78.78-.78 2.05 0 2.83L4 21.41c.39.39.9.59 1.41.59.51 0 1.02-.2 1.41-.59l7.78-7.78 2.81-2.81c.8-.78.8-2.07 0-2.86zM5.41 20L4 18.59l7.72-7.72 1.47 1.35L5.41 20z\"/>\n",
              "  </svg>\n",
              "      </button>\n",
              "      \n",
              "  <style>\n",
              "    .colab-df-container {\n",
              "      display:flex;\n",
              "      flex-wrap:wrap;\n",
              "      gap: 12px;\n",
              "    }\n",
              "\n",
              "    .colab-df-convert {\n",
              "      background-color: #E8F0FE;\n",
              "      border: none;\n",
              "      border-radius: 50%;\n",
              "      cursor: pointer;\n",
              "      display: none;\n",
              "      fill: #1967D2;\n",
              "      height: 32px;\n",
              "      padding: 0 0 0 0;\n",
              "      width: 32px;\n",
              "    }\n",
              "\n",
              "    .colab-df-convert:hover {\n",
              "      background-color: #E2EBFA;\n",
              "      box-shadow: 0px 1px 2px rgba(60, 64, 67, 0.3), 0px 1px 3px 1px rgba(60, 64, 67, 0.15);\n",
              "      fill: #174EA6;\n",
              "    }\n",
              "\n",
              "    [theme=dark] .colab-df-convert {\n",
              "      background-color: #3B4455;\n",
              "      fill: #D2E3FC;\n",
              "    }\n",
              "\n",
              "    [theme=dark] .colab-df-convert:hover {\n",
              "      background-color: #434B5C;\n",
              "      box-shadow: 0px 1px 3px 1px rgba(0, 0, 0, 0.15);\n",
              "      filter: drop-shadow(0px 1px 2px rgba(0, 0, 0, 0.3));\n",
              "      fill: #FFFFFF;\n",
              "    }\n",
              "  </style>\n",
              "\n",
              "      <script>\n",
              "        const buttonEl =\n",
              "          document.querySelector('#df-ab3c2333-815d-4f3f-82f9-61d21bbd8966 button.colab-df-convert');\n",
              "        buttonEl.style.display =\n",
              "          google.colab.kernel.accessAllowed ? 'block' : 'none';\n",
              "\n",
              "        async function convertToInteractive(key) {\n",
              "          const element = document.querySelector('#df-ab3c2333-815d-4f3f-82f9-61d21bbd8966');\n",
              "          const dataTable =\n",
              "            await google.colab.kernel.invokeFunction('convertToInteractive',\n",
              "                                                     [key], {});\n",
              "          if (!dataTable) return;\n",
              "\n",
              "          const docLinkHtml = 'Like what you see? Visit the ' +\n",
              "            '<a target=\"_blank\" href=https://colab.research.google.com/notebooks/data_table.ipynb>data table notebook</a>'\n",
              "            + ' to learn more about interactive tables.';\n",
              "          element.innerHTML = '';\n",
              "          dataTable['output_type'] = 'display_data';\n",
              "          await google.colab.output.renderOutput(dataTable, element);\n",
              "          const docLink = document.createElement('div');\n",
              "          docLink.innerHTML = docLinkHtml;\n",
              "          element.appendChild(docLink);\n",
              "        }\n",
              "      </script>\n",
              "    </div>\n",
              "  </div>\n",
              "  "
            ],
            "text/plain": [
              "   label  1x1  1x2  1x3  1x4  1x5  1x6  1x7  1x8  1x9  ...  28x19  28x20  \\\n",
              "0      5    0    0    0    0    0    0    0    0    0  ...      0      0   \n",
              "1      0    0    0    0    0    0    0    0    0    0  ...      0      0   \n",
              "2      4    0    0    0    0    0    0    0    0    0  ...      0      0   \n",
              "3      1    0    0    0    0    0    0    0    0    0  ...      0      0   \n",
              "4      9    0    0    0    0    0    0    0    0    0  ...      0      0   \n",
              "\n",
              "   28x21  28x22  28x23  28x24  28x25  28x26  28x27  28x28  \n",
              "0      0      0      0      0      0      0      0      0  \n",
              "1      0      0      0      0      0      0      0      0  \n",
              "2      0      0      0      0      0      0      0      0  \n",
              "3      0      0      0      0      0      0      0      0  \n",
              "4      0      0      0      0      0      0      0      0  \n",
              "\n",
              "[5 rows x 785 columns]"
            ]
          },
          "execution_count": 2,
          "metadata": {},
          "output_type": "execute_result"
        }
      ],
      "source": [
        "# read the dataset\n",
        "\n",
        "train = pd.read_csv('https://www.dropbox.com/s/asvw84qy2xbualr/mnist_train.csv?dl=1')\n",
        "test = pd.read_csv('https://www.dropbox.com/s/wqkrfyiqbexx8im/mnist_test.csv?dl=1')\n",
        "\n",
        "train.head()"
      ]
    },
    {
      "cell_type": "code",
      "execution_count": null,
      "metadata": {
        "id": "WlU1l_t3BwNM"
      },
      "outputs": [],
      "source": [
        "train.info()"
      ]
    },
    {
      "cell_type": "code",
      "execution_count": null,
      "metadata": {
        "id": "W8AXElYkFNv9"
      },
      "outputs": [],
      "source": [
        "train.describe()"
      ]
    },
    {
      "cell_type": "markdown",
      "metadata": {
        "id": "tSj821BYFuvn"
      },
      "source": [
        "###Shuffle Dataset to ensure random patterns"
      ]
    },
    {
      "cell_type": "code",
      "execution_count": null,
      "metadata": {
        "colab": {
          "base_uri": "https://localhost:8080/"
        },
        "id": "BhAsU5PUY8o7",
        "outputId": "7ddbad5c-c093-40f7-e1c4-745f52392af5"
      },
      "outputs": [
        {
          "name": "stdout",
          "output_type": "stream",
          "text": [
            "X_train = (60000, 784), y = (60000,), X_test = (10000, 784)\n"
          ]
        }
      ],
      "source": [
        "# Shuffling training data\n",
        "train_shuffled = shuffle(train.values, random_state=STATE)\n",
        "\n",
        "# Extracting features as X and labels as y\n",
        "X_train = train.drop(labels = [\"label\"],axis = 1) \n",
        "y_train = train[\"label\"]\n",
        "\n",
        "# Loading test data (no labels are provieded)\n",
        "X_test = test.drop(labels = [\"label\"],axis = 1) \n",
        "y_test = test[\"label\"]\n",
        "\n",
        "print(f'X_train = {X_train.shape}, y = {y_train.shape}, X_test = {X_test.shape}')"
      ]
    },
    {
      "cell_type": "markdown",
      "metadata": {
        "id": "QXviQe0XF68i"
      },
      "source": [
        "###Data Visualization"
      ]
    },
    {
      "cell_type": "code",
      "execution_count": null,
      "metadata": {
        "colab": {
          "base_uri": "https://localhost:8080/",
          "height": 363
        },
        "id": "IhU17Fo_ZAKv",
        "outputId": "a08407c7-1f14-4310-d8f1-291d4f44c5b0"
      },
      "outputs": [
        {
          "data": {
            "image/png": "[encoded data removed]",
            "text/plain": [
              "<Figure size 1008x864 with 30 Axes>"
            ]
          },
          "metadata": {},
          "output_type": "display_data"
        }
      ],
      "source": [
        "# Plotting some digits\n",
        "plt.figure(figsize=(14,12))\n",
        "for digit_num in range(0,30):\n",
        "    plt.subplot(7,10,digit_num+1)\n",
        "    grid_data = X_train.iloc[digit_num].values.reshape(28,28)  # reshape from 1d to 2d pixel array\n",
        "    plt.imshow(grid_data, interpolation = \"none\", cmap = \"afmhot\")\n",
        "    plt.xticks([])\n",
        "    plt.yticks([])\n",
        "plt.tight_layout()"
      ]
    },
    {
      "cell_type": "code",
      "execution_count": null,
      "metadata": {
        "colab": {
          "base_uri": "https://localhost:8080/",
          "height": 285
        },
        "id": "lxDXPBB-ZCrZ",
        "outputId": "ff794d2b-c25b-4098-c0e2-1c40118e4731"
      },
      "outputs": [
        {
          "data": {
            "image/png": "[encoded data removed]",
            "text/plain": [
              "<Figure size 432x288 with 1 Axes>"
            ]
          },
          "metadata": {},
          "output_type": "display_data"
        }
      ],
      "source": [
        "# Exploring the class distribution (almost equally distributed)\n",
        "sns.set(style=\"darkgrid\")\n",
        "counts = sns.countplot(x=\"label\", data=train, palette=\"Set1\")"
      ]
    },
    {
      "cell_type": "markdown",
      "metadata": {
        "id": "5Ji9DnNedEn6"
      },
      "source": [
        "## Model Building\n",
        "Let's now build the model and tune the hyperparameters. Let's start with a **linear model** first."
      ]
    },
    {
      "cell_type": "markdown",
      "metadata": {
        "id": "HPtHQrfrdI-V"
      },
      "source": [
        "### Linear SVM\n",
        "### Q1. Use different scaling techniques to create a Linear SVM. Compare the overall accuracies on the test set and give reasons which scaling method performs better and why.\n",
        "\n",
        "\n",
        "Answer:\n",
        "I employed 3 different scaling techniques: \n",
        "\n",
        "1. StandardScaler i.e scales features to have 0 mean and variance = 1, accuracy = 0.9293\n",
        "2. MinMaxScaler(0,1) i.e scale features to range (0,1), accuracy = 0.9401\n",
        "3. MinMaxScaler(-1,1) i.e scale features to range (-1, 1), accuracy = 0.9356\n",
        "\n",
        "Clearly MinMaxScaler (specifically with range(0,1)) has the highest accuracy\n",
        "and this is because Machine Learning models works better with small values i.e values in range 0 - 1. "
      ]
    },
    {
      "cell_type": "markdown",
      "metadata": {
        "id": "QfXKuKRvGfuA"
      },
      "source": [
        "**STANDARD-SCALED DATA**"
      ]
    },
    {
      "cell_type": "code",
      "execution_count": null,
      "metadata": {
        "colab": {
          "base_uri": "https://localhost:8080/"
        },
        "id": "O8gSCX5gZ0K0",
        "outputId": "7c5e69e2-185a-4572-a1d4-833a7d3704e0"
      },
      "outputs": [
        {
          "data": {
            "text/plain": [
              "0.9293"
            ]
          },
          "execution_count": 12,
          "metadata": {},
          "output_type": "execute_result"
        }
      ],
      "source": [
        "# an initial SVM model with linear kernel   \n",
        "svm_linear = svm.SVC(kernel='linear', random_state=STATE)\n",
        "\n",
        "# standard-scaling\n",
        "scaler = StandardScaler()\n",
        "\n",
        "normalized_X_train = scaler.fit_transform(X_train)\n",
        "normalized_X_test = scaler.transform(X_test)\n",
        "# fit\n",
        "svm_linear.fit(normalized_X_train, y_train)\n",
        "y_pred = svm_linear.predict(normalized_X_test)\n",
        "\n",
        "# measure accuracy\n",
        "metrics.accuracy_score(y_true=y_test, y_pred=y_pred)"
      ]
    },
    {
      "cell_type": "code",
      "execution_count": null,
      "metadata": {
        "colab": {
          "base_uri": "https://localhost:8080/"
        },
        "id": "fO8ykmf_dpsL",
        "outputId": "31888712-cb35-4ad0-80b0-fb6af47e52c6"
      },
      "outputs": [
        {
          "name": "stdout",
          "output_type": "stream",
          "text": [
            "              precision    recall  f1-score   support\n",
            "\n",
            "           0       0.94      0.97      0.96       980\n",
            "           1       0.96      0.99      0.97      1135\n",
            "           2       0.90      0.93      0.91      1032\n",
            "           3       0.90      0.93      0.91      1010\n",
            "           4       0.92      0.95      0.93       982\n",
            "           5       0.91      0.88      0.90       892\n",
            "           6       0.96      0.94      0.95       958\n",
            "           7       0.95      0.92      0.93      1028\n",
            "           8       0.91      0.88      0.90       974\n",
            "           9       0.94      0.89      0.92      1009\n",
            "\n",
            "    accuracy                           0.93     10000\n",
            "   macro avg       0.93      0.93      0.93     10000\n",
            "weighted avg       0.93      0.93      0.93     10000\n",
            "\n"
          ]
        }
      ],
      "source": [
        "# View the class-wise accuracy of the scaling technique which performs better of the two\n",
        "class_wise = metrics.classification_report(y_true=y_test, y_pred=y_pred)\n",
        "print(class_wise)"
      ]
    },
    {
      "cell_type": "markdown",
      "metadata": {
        "id": "TeKEQOG7H05r"
      },
      "source": [
        "**MINMAX-SCALED DATA (0,1)**"
      ]
    },
    {
      "cell_type": "code",
      "execution_count": null,
      "metadata": {
        "colab": {
          "base_uri": "https://localhost:8080/"
        },
        "id": "CLd4nGhwVbzB",
        "outputId": "46ac5364-6b19-42cc-9032-c5768ffe7d62"
      },
      "outputs": [
        {
          "name": "stdout",
          "output_type": "stream",
          "text": [
            "0.9401\n",
            "              precision    recall  f1-score   support\n",
            "\n",
            "           0       0.95      0.98      0.96       980\n",
            "           1       0.97      0.99      0.98      1135\n",
            "           2       0.93      0.94      0.93      1032\n",
            "           3       0.91      0.94      0.92      1010\n",
            "           4       0.94      0.96      0.95       982\n",
            "           5       0.91      0.90      0.91       892\n",
            "           6       0.96      0.95      0.95       958\n",
            "           7       0.95      0.93      0.94      1028\n",
            "           8       0.94      0.90      0.92       974\n",
            "           9       0.95      0.91      0.93      1009\n",
            "\n",
            "    accuracy                           0.94     10000\n",
            "   macro avg       0.94      0.94      0.94     10000\n",
            "weighted avg       0.94      0.94      0.94     10000\n",
            "\n"
          ]
        }
      ],
      "source": [
        "# an initial SVM model with linear kernel   \n",
        "mn_svm_linear = svm.SVC(kernel='linear', random_state=STATE)\n",
        "\n",
        "# minmax-scaling\n",
        "mn_scaler = MinMaxScaler(feature_range=(0,1))\n",
        "\n",
        "minmax_X_train = mn_scaler.fit_transform(X_train)\n",
        "minmax_X_test = mn_scaler.transform(X_test)\n",
        "# fit\n",
        "mn_svm_linear.fit(minmax_X_train, y_train)\n",
        "y_pred = mn_svm_linear.predict(minmax_X_test)\n",
        "\n",
        "# measure accuracy\n",
        "score = metrics.accuracy_score(y_true=y_test, y_pred=y_pred)\n",
        "print(score)\n",
        "\n",
        "\n",
        "# View the class-wise accuracy of the scaling technique which performs better of the two\n",
        "class_wise = metrics.classification_report(y_true=y_test, y_pred=y_pred)\n",
        "print(class_wise)"
      ]
    },
    {
      "cell_type": "markdown",
      "metadata": {
        "id": "62j9v5XGQiE8"
      },
      "source": [
        "**MINMAX-SCALED DATA (-1,1)**"
      ]
    },
    {
      "cell_type": "code",
      "execution_count": null,
      "metadata": {
        "colab": {
          "base_uri": "https://localhost:8080/"
        },
        "id": "Zh4q5OhOFGKt",
        "outputId": "ec76fb02-f533-419d-e864-d09c6c8e7c80"
      },
      "outputs": [
        {
          "name": "stdout",
          "output_type": "stream",
          "text": [
            "0.9356\n",
            "              precision    recall  f1-score   support\n",
            "\n",
            "           0       0.95      0.97      0.96       980\n",
            "           1       0.97      0.99      0.98      1135\n",
            "           2       0.92      0.93      0.93      1032\n",
            "           3       0.89      0.94      0.92      1010\n",
            "           4       0.94      0.96      0.95       982\n",
            "           5       0.91      0.88      0.89       892\n",
            "           6       0.95      0.95      0.95       958\n",
            "           7       0.96      0.93      0.94      1028\n",
            "           8       0.92      0.89      0.91       974\n",
            "           9       0.94      0.90      0.92      1009\n",
            "\n",
            "    accuracy                           0.94     10000\n",
            "   macro avg       0.94      0.93      0.93     10000\n",
            "weighted avg       0.94      0.94      0.94     10000\n",
            "\n"
          ]
        }
      ],
      "source": [
        "from pandas._libs.hashtable import StringHashTable\n",
        "# an initial SVM model with linear kernel   \n",
        "mn_svm_linear = svm.SVC(kernel='linear', random_state=StringHashTable)\n",
        "\n",
        "# minmax-scaling\n",
        "mn_scaler2 = MinMaxScaler(feature_range=(-1,1))\n",
        "\n",
        "minmax2_X_train = mn_scaler2.fit_transform(X_train)\n",
        "minmax2_X_test = mn_scaler2.transform(X_test)\n",
        "# fit\n",
        "mn_svm_linear.fit(minmax2_X_train, y_train)\n",
        "y_pred = mn_svm_linear.predict(minmax2_X_test)\n",
        "\n",
        "# measure accuracy\n",
        "score = metrics.accuracy_score(y_true=y_test, y_pred=y_pred)\n",
        "print(score)\n",
        "\n",
        "\n",
        "# View the class-wise accuracy of the scaling technique which performs better of the two\n",
        "class_wise = metrics.classification_report(y_true=y_test, y_pred=y_pred)\n",
        "print(class_wise)"
      ]
    },
    {
      "cell_type": "markdown",
      "metadata": {
        "id": "92CN6cwqRTrf"
      },
      "source": [
        "### Q2. Run the SVM algorithm with different types of kernels as discussed in the class (i.e., polynomial, RBF, and Sigmoid). Compare the test accuracies and time taken by each one of them.\n",
        "\n",
        "\n",
        "Answer:\n",
        "The SVM algorithm was run using 4 different types of kernels using the minmax-scaled data:\n",
        "\n",
        "1.   Linear: accuracy - 0.940, time taken - 9mins\n",
        "2.   Polynomial: accuracy - 0.9771, time taken - 9 mins\n",
        "3.   RBF: accuracy - 0.9791, time taken - 9 mins\n",
        "4.   Sigmoid: accuracy - 0.7757, time taken - 14mins\n"
      ]
    },
    {
      "cell_type": "code",
      "execution_count": null,
      "metadata": {
        "colab": {
          "base_uri": "https://localhost:8080/"
        },
        "id": "6lU19GGlUwYp",
        "outputId": "3464e995-67c6-40d1-a7e7-2b7b58f2c624"
      },
      "outputs": [
        {
          "data": {
            "text/plain": [
              "{'linear': [0.9401, 9.0],\n",
              " 'poly': [0.9771, 9.0],\n",
              " 'rbf': [0.9791, 9.0],\n",
              " 'sigmoid': [0.7757, 14.0]}"
            ]
          },
          "execution_count": 9,
          "metadata": {},
          "output_type": "execute_result"
        }
      ],
      "source": [
        "\n",
        "kernels = ['linear', 'poly', 'rbf', 'sigmoid']\n",
        "kernel_score_dict = {}\n",
        "\n",
        "for knl in kernels:\n",
        "  start = time.time()\n",
        "\n",
        "  # fit\n",
        "  svm_classifier = svm.SVC(kernel=knl, random_state=STATE)\n",
        "  svm_classifier.fit(minmax_X_train, y_train)\n",
        "\n",
        "  # predict and score\n",
        "  preds = svm_classifier.predict(minmax_X_test)\n",
        "  score = metrics.accuracy_score(y_true=y_test, y_pred=preds)\n",
        "\n",
        "  # time\n",
        "  end = time.time()\n",
        "  hours, rem = divmod(end - start, 3600)\n",
        "  mins, sec = divmod(rem, 60)\n",
        "\n",
        "  # store in dict\n",
        "  kernel_score_dict[knl] = [score, mins]\n",
        "\n",
        "kernel_score_dict\n",
        "\n"
      ]
    },
    {
      "cell_type": "markdown",
      "metadata": {
        "id": "KPyg8bxSRXZJ"
      },
      "source": [
        "### Q3. Reduce the dimensionality of the dataset using PCA, plot the PCA output, train the linear SVM and report it's testing accuracy. \n",
        "*Constraint: PCA should have the 'n_components'=0.90, SVM should have 'C': 2.82842712475, 'gamma': 0.00728932024638*\n",
        "\n",
        "\n",
        "Answer:\n",
        "\n",
        "---\n",
        "\n",
        "\n",
        "Sklearn's PCA method was fitted on the train set, then transformed on both the \n",
        "\n",
        "1.  Sklearn's PCA method was fitted on the train set with explained variance > 0.9, then transformed on both the train and test set.\n",
        "2.  The number of features were reduced to 87 as a result.\n",
        "3. The resulting \"compressed\" data was used to train a linear SVM, accuracy on test set = 0.9427\n",
        "4. The first 30 samples in the compressed x_train was also plotted.\n"
      ]
    },
    {
      "cell_type": "code",
      "execution_count": null,
      "metadata": {
        "colab": {
          "base_uri": "https://localhost:8080/"
        },
        "id": "zevM2WOogd1r",
        "outputId": "bca54cd4-867f-4587-fbc4-cb737fa01834"
      },
      "outputs": [
        {
          "data": {
            "text/plain": [
              "87"
            ]
          },
          "execution_count": 12,
          "metadata": {},
          "output_type": "execute_result"
        }
      ],
      "source": [
        "from sklearn.decomposition import PCA\n",
        "\n",
        "pca = PCA(n_components=0.90, random_state=STATE)\n",
        "\n",
        "pca_X_train = pca.fit_transform(minmax_X_train)\n",
        "pca_X_test = pca.transform(minmax_X_test)\n",
        "\n",
        "# number of principal components found\n",
        "pca.n_components_"
      ]
    },
    {
      "cell_type": "code",
      "execution_count": null,
      "metadata": {
        "colab": {
          "base_uri": "https://localhost:8080/",
          "height": 361
        },
        "id": "l826wjjzfjyo",
        "outputId": "76e8bded-79d6-4ca2-8d2a-ee64b8532cb6"
      },
      "outputs": [
        {
          "data": {
            "image/png": "[encoded data removed]",
            "text/plain": [
              "<Figure size 1008x864 with 30 Axes>"
            ]
          },
          "metadata": {},
          "output_type": "display_data"
        }
      ],
      "source": [
        "compressed_X_train = pca.inverse_transform(pca_X_train)\n",
        "compressed_X_test = pca.inverse_transform(pca_X_test)\n",
        "\n",
        "plt.figure(figsize=(14,12))\n",
        "for digit_num in range(0,30):\n",
        "    plt.subplot(7,10,digit_num+1)\n",
        "    grid_data = compressed_X_train[digit_num, :].reshape(28,28)  # reshape from 1d to 2d pixel array\n",
        "    plt.imshow(grid_data, interpolation = \"none\", cmap = \"afmhot\")\n",
        "    plt.xticks([])\n",
        "    plt.yticks([])\n",
        "plt.tight_layout()"
      ]
    },
    {
      "cell_type": "markdown",
      "metadata": {
        "id": "BLOgwFMwixLh"
      },
      "source": [
        "**Linear SVM, C = 2.82842712475, gamma = 0.00728932024638**"
      ]
    },
    {
      "cell_type": "code",
      "execution_count": null,
      "metadata": {
        "colab": {
          "base_uri": "https://localhost:8080/"
        },
        "id": "RgmPQgSQ_-5O",
        "outputId": "254c64f7-3276-4ad1-9ffa-56441d4190e8"
      },
      "outputs": [
        {
          "data": {
            "text/plain": [
              "0.9427"
            ]
          },
          "execution_count": 15,
          "metadata": {},
          "output_type": "execute_result"
        }
      ],
      "source": [
        "lin_svm = svm.SVC(kernel='linear', C = 2.82842712475, gamma = 0.00728932024638, random_state=STATE)\n",
        "lin_svm.fit(pca_X_train, y_train)\n",
        "predictions = lin_svm.predict(pca_X_test)\n",
        "metrics.accuracy_score(y_true=y_test, y_pred=predictions)"
      ]
    },
    {
      "cell_type": "markdown",
      "metadata": {
        "id": "tnZZ0M3oRbz8"
      },
      "source": [
        "### Q4. Create a simple Convolutional Neural Network (CNN) after reshaping the normalized input features to a size of (28, 28, 1), initial filter size as 32, max-pooling size of 2,dropout of 0.2, and a dense layer of 30 before the final output layer. Train the model for 100 epochs and report the plots of training accuracy and loss alongwith the overall loss and accuracy on the testing set. \n",
        "\n",
        "\n",
        "Answer:\n",
        "\n",
        "---\n",
        "\n",
        "\n",
        "1.   A simple CNN was used to train the minmax-scaled data for 100 epochs. Batch size = 256, optimizer=Adam(learning_rate = 0.001), Loss = SparseCategoricalCrossEntropy since I decided not to one-hot encode the labels. \n",
        "\n",
        "2.   The evolution of the training loss and accuracy were plotted\n",
        "\n",
        "3. The overall loss on the test set = 0.0926, accuracy = 0.9847\n",
        "\n",
        "\n"
      ]
    },
    {
      "cell_type": "code",
      "execution_count": null,
      "metadata": {
        "id": "NMgzPqtwvCDk"
      },
      "outputs": [],
      "source": [
        "minmax_reshaped_Xtrain = minmax_X_train.reshape((60000, 28, 28,1))\n",
        "minmax_reshaped_Xtest = minmax_X_test.reshape((10000, 28, 28,1))"
      ]
    },
    {
      "cell_type": "code",
      "execution_count": null,
      "metadata": {
        "id": "Q1bMHmttuhdT"
      },
      "outputs": [],
      "source": [
        "inputs = tf.keras.Input((28,28,1))\n",
        "\n",
        "x = tf.keras.layers.Conv2D(32, 3)(inputs)\n",
        "x = tf.keras.layers.MaxPooling2D(pool_size=(2,2))(x)\n",
        "x = tf.keras.layers.Dropout(0.2)(x)\n",
        "x = tf.keras.layers.Flatten()(x)\n",
        "x = tf.keras.layers.Dense(30,  activation='relu')(x)\n",
        "outputs = tf.keras.layers.Dense(10, activation='softmax')(x)\n",
        "\n",
        "model = tf.keras.Model(inputs, outputs)\n",
        "\n",
        "model.compile(tf.keras.optimizers.Adam(learning_rate=0.001), loss='sparse_categorical_crossentropy', metrics=[\"accuracy\"] )"
      ]
    },
    {
      "cell_type": "code",
      "execution_count": null,
      "metadata": {
        "colab": {
          "base_uri": "https://localhost:8080/"
        },
        "id": "yY8mkNM7y9-q",
        "outputId": "84e54038-9751-4d9c-c3a4-855daa0e2c7e"
      },
      "outputs": [
        {
          "name": "stdout",
          "output_type": "stream",
          "text": [
            "Model: \"model_1\"\n",
            "_________________________________________________________________\n",
            " Layer (type)                Output Shape              Param #   \n",
            "=================================================================\n",
            " input_2 (InputLayer)        [(None, 28, 28, 1)]       0         \n",
            "                                                                 \n",
            " conv2d_1 (Conv2D)           (None, 26, 26, 32)        320       \n",
            "                                                                 \n",
            " max_pooling2d_1 (MaxPooling  (None, 13, 13, 32)       0         \n",
            " 2D)                                                             \n",
            "                                                                 \n",
            " dropout_1 (Dropout)         (None, 13, 13, 32)        0         \n",
            "                                                                 \n",
            " flatten_1 (Flatten)         (None, 5408)              0         \n",
            "                                                                 \n",
            " dense_2 (Dense)             (None, 30)                162270    \n",
            "                                                                 \n",
            " dense_3 (Dense)             (None, 10)                310       \n",
            "                                                                 \n",
            "=================================================================\n",
            "Total params: 162,900\n",
            "Trainable params: 162,900\n",
            "Non-trainable params: 0\n",
            "_________________________________________________________________\n"
          ]
        }
      ],
      "source": [
        "model.summary()"
      ]
    },
    {
      "cell_type": "code",
      "execution_count": null,
      "metadata": {
        "id": "wb-xUyiq1c2k"
      },
      "outputs": [],
      "source": [
        "hist = model.fit(minmax_reshaped_Xtrain, y_train, epochs=100, batch_size=256)"
      ]
    },
    {
      "cell_type": "code",
      "execution_count": null,
      "metadata": {
        "colab": {
          "base_uri": "https://localhost:8080/",
          "height": 301
        },
        "id": "o3YOADbJ877L",
        "outputId": "548451c3-7ee3-4533-c5a1-8e5f1f37625b"
      },
      "outputs": [
        {
          "data": {
            "image/png": "[encoded data removed]",
            "text/plain": [
              "<Figure size 720x288 with 1 Axes>"
            ]
          },
          "metadata": {},
          "output_type": "display_data"
        }
      ],
      "source": [
        "plt.figure(figsize=(10,4))\n",
        "plt.plot( hist.history['loss'], color='m', label='Train loss')\n",
        "plt.title(\"Plot of train loss against number of epochs\")\n",
        "plt.xlabel(\"Epoch\")\n",
        "plt.ylabel(\"Train loss\")\n",
        "plt.show()"
      ]
    },
    {
      "cell_type": "code",
      "execution_count": null,
      "metadata": {
        "colab": {
          "base_uri": "https://localhost:8080/",
          "height": 301
        },
        "id": "5HDpeDhm-rsd",
        "outputId": "219efa87-69c8-49bd-997b-4f7d9e126200"
      },
      "outputs": [
        {
          "data": {
            "image/png": "[encoded data removed]",
            "text/plain": [
              "<Figure size 720x288 with 1 Axes>"
            ]
          },
          "metadata": {},
          "output_type": "display_data"
        }
      ],
      "source": [
        "plt.figure(figsize=(10,4))\n",
        "plt.plot(hist.history['accuracy'], color='g', label='Train accuracy')\n",
        "plt.title(\"Plot of train accuracy against number of epochs\")\n",
        "plt.xlabel(\"Epoch\")\n",
        "plt.ylabel(\"Train accuracy\")\n",
        "plt.show()"
      ]
    },
    {
      "cell_type": "code",
      "execution_count": null,
      "metadata": {
        "colab": {
          "base_uri": "https://localhost:8080/"
        },
        "id": "A4wl4S-S7mgc",
        "outputId": "f15d1c5c-da23-4e5f-aea0-82ee0ddce178"
      },
      "outputs": [
        {
          "name": "stdout",
          "output_type": "stream",
          "text": [
            "313/313 [==============================] - 2s 7ms/step - loss: 0.0926 - accuracy: 0.9847\n",
            "Overall loss on test set: 0.0926, \n",
            "Overall accuracy on test set: 0.9847\n"
          ]
        }
      ],
      "source": [
        "score = model.evaluate(minmax_reshaped_Xtest, y_test)\n",
        "print(\"Overall loss on test set: {:.4f}, \\nOverall accuracy on test set: {:.4f}\".format(score[0], score[1]))"
      ]
    },
    {
      "cell_type": "markdown",
      "metadata": {
        "id": "CRsWHks5IVwU"
      },
      "source": [
        "### Q5. What can be the possible reasons for: \n",
        "1. SVM performs slightly better than the CNN after dimension reduction ? \n",
        "2. The test accuracy when using the Sigmoid kernel drops significantly ?\n",
        "\n",
        "\n",
        "\n",
        "Answer:\n",
        "\n",
        "\n",
        "---\n",
        "\n",
        "\n",
        "1. CNN performs better than SVM even after the dimension reduction from the experiments above. This is expected as CNNs are generally better suited for computer vision tasks.\n",
        "\n",
        "2. Using the sigmoid kernel function is equilavent to a 2-layer perceptron neural network. The drop in the accuracy could be a result of the model underfitting because it is too simple for the level of complexity of the features in the data."
      ]
    }
  ],
  "metadata": {
    "colab": {
      "collapsed_sections": [],
      "name": "Copy of Vector Institute: Assignment 4.ipynb",
      "provenance": []
    },
    "kernelspec": {
      "display_name": "Python 3",
      "name": "python3"
    },
    "language_info": {
      "name": "python"
    }
  },
  "nbformat": 4,
  "nbformat_minor": 0
}
